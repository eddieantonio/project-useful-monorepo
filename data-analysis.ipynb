{
 "cells": [
  {
   "attachments": {},
   "cell_type": "markdown",
   "metadata": {},
   "source": [
    "**NOTE**: to get this working, you must install the `data-analysis` group dependencies using Poetry:\n",
    "\n",
    "```shell\n",
    "poetry install --with=data-analysis\n",
    "```\n",
    "\n",
    "You should also run this if you are using git:\n",
    "\n",
    "```shell\n",
    "poetry run nbstripout --install\n",
    "```\n",
    "\n",
    "This will automatically clear output when committing to git :)"
   ]
  },
  {
   "attachments": {},
   "cell_type": "markdown",
   "metadata": {},
   "source": [
    "We'll create a basic dataframe from `answers.sqlite3`. Then we'll tease out the JSON columns."
   ]
  },
  {
   "cell_type": "code",
   "execution_count": null,
   "metadata": {},
   "outputs": [],
   "source": [
    "import pandas as pd\n",
    "import json\n",
    "import sqlite3\n",
    "\n",
    "from sklearn.metrics import cohen_kappa_score\n",
    "\n",
    "from data_analysis_utils import agreement_as_label"
   ]
  },
  {
   "cell_type": "code",
   "execution_count": null,
   "metadata": {},
   "outputs": [],
   "source": [
    "# Read answers.sqlite3 into a DataFrame\n",
    "conn = sqlite3.connect(\"answers.sqlite3\")\n",
    "df = pd.read_sql_query(\"SELECT * FROM answers\", conn)\n",
    "conn.close()\n",
    "df"
   ]
  },
  {
   "attachments": {},
   "cell_type": "markdown",
   "metadata": {},
   "source": [
    "Now time to clean the data — extract it from that JSON column.\n",
    "\n",
    "Instead of creating a nice schema in `answers.sqlite3`, I decided to defer the job of making nice columns to the data analysis stage. So now we have to parse the answers column as JSON and extract data."
   ]
  },
  {
   "attachments": {},
   "cell_type": "markdown",
   "metadata": {},
   "source": [
    "\n",
    "As of 2023-05-02, these are columns:"
   ]
  },
  {
   "cell_type": "code",
   "execution_count": null,
   "metadata": {},
   "outputs": [],
   "source": [
    "df[\"answers\"].apply(json.loads)[0]"
   ]
  },
  {
   "cell_type": "code",
   "execution_count": null,
   "metadata": {},
   "outputs": [],
   "source": [
    "def json_to_columns(df):\n",
    "    json_column = df[\"answers\"].apply(json.loads)\n",
    "    return df.assign(\n",
    "        jargon=json_column.apply(lambda x: x[\"jargon\"]).astype(int),\n",
    "        sentence_structure=json_column.apply(lambda x: x[\"sentence_structure\"]).astype(\"category\"),\n",
    "        explanation=json_column.apply(lambda x: x[\"explanation\"]),\n",
    "        explanation_correctness=json_column.apply(lambda x: x[\"explanation_correctness\"]).astype(\"category\"),\n",
    "        # I wish I had a better name for this column, but it's basically, \"if the explanation is MAYBE correct, WHY is it maybe correct?\"\n",
    "        explanation_maybe=json_column.apply(lambda x: x[\"explanation_maybe\"]).astype(\"category\"),\n",
    "        fix=json_column.apply(lambda x: x[\"fix\"]).astype(\"category\"),\n",
    "        fix_correctness=json_column.apply(lambda x: x[\"fix_correctness\"]).astype(\"category\"),\n",
    "        additional_errors=json_column.apply(lambda x: x[\"additional_errors\"]).astype(\"category\"),\n",
    "        notes=json_column.apply(lambda x: x[\"notes\"]),\n",
    "        length=json_column.apply(lambda x: x[\"length\"]).astype(int),\n",
    "    )\n",
    "\n",
    "\n",
    "full_df = df.pipe(json_to_columns)\\\n",
    "    .drop(columns=[\"answers\"])\n",
    "full_df"
   ]
  },
  {
   "cell_type": "code",
   "execution_count": null,
   "metadata": {},
   "outputs": [],
   "source": [
    "full_df.info()"
   ]
  },
  {
   "cell_type": "code",
   "execution_count": null,
   "metadata": {},
   "outputs": [],
   "source": [
    "two_ratings = full_df.groupby([\"srcml_path\", \"version\"]).filter(lambda x: len(x[\"rater\"].unique()) == 2)\n",
    "two_ratings"
   ]
  },
  {
   "cell_type": "code",
   "execution_count": null,
   "metadata": {},
   "outputs": [],
   "source": [
    "two_ratings[\"explanation\"].value_counts()"
   ]
  },
  {
   "cell_type": "code",
   "execution_count": null,
   "metadata": {},
   "outputs": [],
   "source": []
  },
  {
   "cell_type": "code",
   "execution_count": null,
   "metadata": {},
   "outputs": [],
   "source": [
    "# Get the explanation ratings from prajish and eddie:\n",
    "eddie_ratings = two_ratings[two_ratings[\"rater\"] == \"eddie\"][[\"srcml_path\", \"version\", \"variant\", \"explanation\"]]\n",
    "prajish_ratings = two_ratings[two_ratings[\"rater\"] == \"prajish\"][[\"srcml_path\", \"version\", \"variant\", \"explanation\"]]\n",
    "\n",
    "# Join the two ratings together\n",
    "ratings = eddie_ratings.merge(prajish_ratings, on=[\"srcml_path\", \"version\", \"variant\"], suffixes=[\"_eddie\", \"_prajish\"])"
   ]
  },
  {
   "cell_type": "code",
   "execution_count": null,
   "metadata": {},
   "outputs": [],
   "source": [
    "# Get the ratings for the two raters\n",
    "eddie_ratings = two_ratings[two_ratings[\"rater\"] == \"eddie\"]\n",
    "prajish_ratings = two_ratings[two_ratings[\"rater\"] == \"prajish\"]\n",
    "brett_ratings = two_ratings[two_ratings[\"rater\"] == \"brett\"]\n",
    "assert len(eddie_ratings) == len(prajish_ratings) == len(brett_ratings)\n",
    "assert len(eddie_ratings) == 40\n",
    "\n",
    "# Join eddie, brett, prajish ratings togtether\n",
    "#ratings = eddie_ratings.merge(prajish_ratings, on=[\"srcml_path\", \"version\", \"variant\"], suffixes=[\"_eddie\", \"_prajish\"])\\\n",
    "#    .merge(brett_ratings, on=[\"srcml_path\", \"version\", \"variant\"], suffixes=[\"\", \"_brett\"])\n",
    "\n",
    "ratings = eddie_ratings.merge(prajish_ratings, on=[\"srcml_path\", \"version\", \"variant\"], suffixes=[\"_eddie\", \"_prajish\"])"
   ]
  },
  {
   "cell_type": "code",
   "execution_count": null,
   "metadata": {},
   "outputs": [],
   "source": [
    "brett_ratings.merge(eddie_ratings, on=[\"srcml_path\", \"version\", \"variant\"], suffixes=[\"_brett\", \"_eddie\"]).sample(5)"
   ]
  },
  {
   "cell_type": "code",
   "execution_count": null,
   "metadata": {},
   "outputs": [],
   "source": [
    "# TODO: perhaps Scott's pi is a better measure of agreement for this data:\n",
    "# See: https://stats.stackexchange.com/a/525640\n",
    "\n",
    "kappa = cohen_kappa_score(ratings[\"explanation_eddie\"], ratings[\"explanation_prajish\"])\n",
    "kappa, agreement_as_label(kappa)"
   ]
  },
  {
   "cell_type": "code",
   "execution_count": null,
   "metadata": {},
   "outputs": [],
   "source": [
    "kappa = cohen_kappa_score(ratings[\"fix_eddie\"], ratings[\"fix_prajish\"])\n",
    "kappa, agreement_as_label(kappa)"
   ]
  }
 ],
 "metadata": {
  "kernelspec": {
   "display_name": "project-useful-monorepo-alBd81bV-py3.11",
   "language": "python",
   "name": "python3"
  },
  "language_info": {
   "codemirror_mode": {
    "name": "ipython",
    "version": 3
   },
   "file_extension": ".py",
   "mimetype": "text/x-python",
   "name": "python",
   "nbconvert_exporter": "python",
   "pygments_lexer": "ipython3",
   "version": "3.11.2"
  }
 },
 "nbformat": 4,
 "nbformat_minor": 2
}
